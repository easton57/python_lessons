{
 "cells": [
  {
   "cell_type": "markdown",
   "metadata": {},
   "source": [
    "# Setting up your environment\n",
    "\n",
    "You are probably already done but we'll go over what you did.\n",
    "\n",
    "First install python from python.org: https://www.python.org\n",
    "\n",
    "Next install Jupyter Notebook by:\n",
    "\n",
    "    1. Opening powershell if on Windows or a Terminal if on Mac OS or Linux\n",
    "    2. Navigate to the folder that has your notebook files\n",
    "    3. Type the command without quotes, \"pip install jupyterlab\"\n",
    "    4. Once that is finished, type in, \"jupyter-lab\" and your browser should open with the files on the left side\n",
    "    "
   ]
  },
  {
   "cell_type": "markdown",
   "metadata": {},
   "source": [
    "# Different types of development environments\n",
    "\n",
    "## IDE's and Editors \n",
    "\n",
    "IDE is an acronym for Integrated Development Environments. They are typically editors with a set of tools dedicated to a language. For python, I gravitate towareds one called PyCharm. The tools that IDE's include help to maintain syntax and proper editing. They also include tools for debugging that enable you to run your code line by line to help with locating bugs and other issues. Another benefit to IDE's is they will autofill commands for you and sometimes download necessary libraries without your intervention.\n",
    "\n",
    "Editors are just that, text editors. Python includes one with it's install called IDLE and it is very minimalistic and barebones. I haven't dabled in it much but from what I recall it's like the MS Paint of text editors but it lets you run python. That's the extremely basic side of this spectrum and then you have editors like Visual Studio Code. I've recently been trying to use it more because it's very lightweight and has tons of plugins that can help make it feel more like an IDE. It supports nearly any language and can be extremely useful when working on projects that use multiple languages.\n",
    "\n",
    "## What you'll be using for now\n",
    "\n",
    "For the first few lessons I have you setup in Jupyter Notebook. It's dedicated to python so it can be considered more of an IDE but it lacks some of the features of an IDE. We'll get to using an IDE later since they are a whole other beast to unpack."
   ]
  },
  {
   "cell_type": "markdown",
   "metadata": {},
   "source": [
    "# Interpreted vs. Compiled Languages\n",
    "\n",
    "Just a little bit of informative reading. Nothing too crazy since I don't know everything about this either. An Interpreted language, such as ya boi python, isn't directly translated to machine code, instead, the python interpreter takes care of that. Compiled languages like C#, are compiled directly into machine code making them faster since it takes out the middle man. Do what you will with that information, more of a fun fact for now but possibly a deciding factor for which language you'll use in a project in the future."
   ]
  },
  {
   "cell_type": "markdown",
   "metadata": {},
   "source": [
    "# Your first line of code (at least in Jupyter Notebook)\n",
    "\n",
    "For a quick demo on how Jupyter Notebook works, enter everyone's first line of code, print(\"Hello World!\") in the box below then press Shift+Enter to run the command."
   ]
  },
  {
   "cell_type": "code",
   "execution_count": null,
   "metadata": {
    "tags": []
   },
   "outputs": [],
   "source": []
  },
  {
   "cell_type": "markdown",
   "metadata": {},
   "source": [
    "What you should have seen is your code then directly below the output. This helps give you immediate feedback throughout your lessons and show's if your line has any errors in it like the example below. Correct the small error in that code and you'll be done with Lesson 0."
   ]
  },
  {
   "cell_type": "code",
   "execution_count": 1,
   "metadata": {
    "tags": []
   },
   "outputs": [
    {
     "ename": "NameError",
     "evalue": "name 'pritn' is not defined",
     "output_type": "error",
     "traceback": [
      "\u001b[0;31m---------------------------------------------------------------------------\u001b[0m",
      "\u001b[0;31mNameError\u001b[0m                                 Traceback (most recent call last)",
      "Cell \u001b[0;32mIn[1], line 1\u001b[0m\n\u001b[0;32m----> 1\u001b[0m pritn(\u001b[39m\"\u001b[39m\u001b[39mI\u001b[39m\u001b[39m'\u001b[39m\u001b[39mve got a problem\u001b[39m\u001b[39m\"\u001b[39m)\n",
      "\u001b[0;31mNameError\u001b[0m: name 'pritn' is not defined"
     ]
    }
   ],
   "source": [
    "pritn(\"I've got a problem\")"
   ]
  },
  {
   "attachments": {},
   "cell_type": "markdown",
   "metadata": {},
   "source": [
    "# Just kidding... a bit about Syntax\n",
    "\n",
    "I almost sent you off to the races without going over basic python syntax. Python is unlike other languages in it's syntax since it's preferred method for naming is snake case. This means all words are lowercase and instead of having a space between words, you use an under score like this: my_var. \n",
    "\n",
    "Another important concept is whitespace. Python doesn't use brackets or parenthesis to keep track of code blocks, it uses indentation. This will start to make more sense as we write more code but to begin, any code that belongs to other code needs to have one more indent. To visualize I have some code below."
   ]
  },
  {
   "cell_type": "code",
   "execution_count": 2,
   "metadata": {},
   "outputs": [
    {
     "name": "stdout",
     "output_type": "stream",
     "text": [
      "Hi   whitespace!\n"
     ]
    }
   ],
   "source": [
    "# No indent due to this code being the owner of other code.\n",
    "def whitespace_method():\n",
    "    # This code has an indent so that it knows that it is only run when whitespace is called\n",
    "    my_whitespace = \"   \"\n",
    "\n",
    "    # another line that has to follow the same rule\n",
    "    return my_whitespace\n",
    "\n",
    "# This code doesn't belong to the above method\n",
    "print(\"Hi\" + whitespace_method() + \"whitespace!\")"
   ]
  },
  {
   "attachments": {},
   "cell_type": "markdown",
   "metadata": {},
   "source": [
    "For now ignore the code that may not be familiar and only look at how the spaces are placed preceding each line. I can't tell you how many times I've run into issues because I didn't put an indent in the right place. Luckily, your development environment will help try to keep you and your code in line. Also observe how I have named my variable and method. That is a example of snake case for you visual learners."
   ]
  },
  {
   "cell_type": "markdown",
   "metadata": {},
   "source": []
  }
 ],
 "metadata": {
  "kernelspec": {
   "display_name": "Python 3 (ipykernel)",
   "language": "python",
   "name": "python3"
  },
  "language_info": {
   "codemirror_mode": {
    "name": "ipython",
    "version": 3
   },
   "file_extension": ".py",
   "mimetype": "text/x-python",
   "name": "python",
   "nbconvert_exporter": "python",
   "pygments_lexer": "ipython3",
   "version": "3.9.6"
  },
  "vscode": {
   "interpreter": {
    "hash": "31f2aee4e71d21fbe5cf8b01ff0e069b9275f58929596ceb00d14d90e3e16cd6"
   }
  }
 },
 "nbformat": 4,
 "nbformat_minor": 4
}
