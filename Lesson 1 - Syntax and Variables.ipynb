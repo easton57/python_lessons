{
 "cells": [
  {
   "attachments": {},
   "cell_type": "markdown",
   "metadata": {},
   "source": [
    "<H1>Introduction to Python</H1>\n",
    "\n",
    "In this first lesson, we'll go over the basics of Python. This will include the basic syntax of Python, variables, data types, and operators.\n",
    "\n",
    "<H2>Python Syntax</H2>\n",
    "\n",
    "We'll start with python syntax. Python uses a naming scheme called snake case. You'll use this whenever you create new files, variables, methods, and classes. Snake case's characteristics are each word being in lower case and then each word or number being separated by a underscore. Here's a quick example but we'll be following these rules throughout all of our code: example_word.\n",
    "\n",
    "Python is unique in the way that it uses whitespace for code groupings where other languages will use, for example, curly braces { }. Starting at the first line of code, there is an order of organization. That's not to say you can press tab and create a group of commands to be executed but once you start to implement control statements, then you will need to keep in mind where your whitespace is as it will affect whether or not your code will run and if a statement will be run where you're expecting it to.\n",
    "\n",
    "Another important thing are comments. Python has a couple of different comment types, single line and multi-line. A single line comment is created by using a single pound sign (#) and a multi-line comment is created by surrounding the comment text with 3 apostrophes (''' example ''').\n",
    "\n",
    "Below are some examples of these things in action:"
   ]
  },
  {
   "cell_type": "code",
   "execution_count": 1,
   "metadata": {},
   "outputs": [
    {
     "name": "stdout",
     "output_type": "stream",
     "text": [
      "bananza\n",
      "I'm free!\n"
     ]
    }
   ],
   "source": [
    "'''\n",
    "This is a multi-line comment\n",
    "Anything between these apostrophes isn't read as code\n",
    "You can use this to explain code blocks or give information about a document or file\n",
    "These are limited by your imagination\n",
    "'''\n",
    "\n",
    "# This is a single line comment and below are our snake case examples\n",
    "my_number = 57\n",
    "my_word = \"bananza\"\n",
    "my_boolean = True\n",
    "\n",
    "# Every command belongs to, lets say the base of the file, it's not embeded into everything so extra white space isn't required for possession\n",
    "# We'll change that with the if statement below\n",
    "if my_boolean is True:\n",
    "        \n",
    "    # This command belongs to the if statement preceeding it, a tab is placed in front of it as the additional whitespace\n",
    "    print(my_word)\n",
    "\n",
    "# this command no longer belongs to the if statement\n",
    "print(\"I'm free!\")"
   ]
  },
  {
   "attachments": {},
   "cell_type": "markdown",
   "metadata": {},
   "source": [
    "Take some time to practice below. I'll leave a little layout for you. Let me know if you run into any trouble."
   ]
  },
  {
   "cell_type": "code",
   "execution_count": null,
   "metadata": {},
   "outputs": [],
   "source": [
    "# Create a multi-line comment below\n",
    "\n",
    "\n",
    "# Create a single line comment\n",
    "\n",
    "\n",
    "# Create a variable that has a number assigned like my_number above\n",
    "\n",
    "\n",
    "# create a properly spaced print statement like above printing out your variable\n",
    "if True:\n",
    "    # Follow this if you're feeling stuck print(your_variable_name_here)\n",
    "    "
   ]
  },
  {
   "attachments": {},
   "cell_type": "markdown",
   "metadata": {},
   "source": [
    "<H2>Variables, Data Types and Operators</H2>\n",
    "\n",
    "This is gonna be a nice PHAT section since we'll have quite a bit to cover since there's quite a bit that goes into each of the parts in the title so let's get started.\n",
    "\n",
    "<H3>Variables and Data Types</H3>\n",
    "\n",
    "Variables are how we store and share data when we write code. Python makes it pretty simple in some aspects but almost to a fault as it can get confusing. Python doesn't have explicitely declared data types within it's variables like other languages may have so you have to keep track of and manipulate the data types by being familiar with what's happening within your code or by having verbose comments. I'll show you an example of what I mean in a code block but first, here are the built in python data types:\n",
    "\n",
    "    * Integers (int)\n",
    "    * Floating-point numbers (float)\n",
    "    * Booleans (bool)\n",
    "    * Strings (str)\n",
    "    * Lists (list)\n",
    "    * Tuples (tuple)\n",
    "    * Dictionaries (dict)\n",
    "    * Sets (set)\n",
    "\n",
    "You may be familiar with some of these but here's a break down of them all. Integers are any whole number, float's are numbers that do include decimal places, booleans are either true or false and strings are any set of characters including numbers (more on that later). \n",
    "\n",
    "The last 4 are ways that you can group variables. Lists are groups that are ordered, mutable, and can include duplicate values. The way to access an item in a list is to use square brackets and an index number. A note for indexes is that they all start with 0. You'll see this in an example in a moment. Tuples are groups that are ordered, can include duplicates, but are immutable meaning you can't change them after their creation. Tuples follow the same access rule as lists. Dictionaries are fun. They are groups of key pair values that are ordered, mutable, but do not allow for duplicates for obvious reasons. You can't have a key that has multiple locks or in this case definitions. They are accessed by, \"getting,\" the definition of the specified key. The last one, a set, is immutable, unindexed, and doesn't allow for duplicate items. Accessing items in a set isn't quite as easy as any of the others before. You have to loop through it to be able to access individual items.\n",
    "\n",
    "Below are a few examples of data types and an additional way to determine what data type a variable is. Also take note of the comments and the ways to access items in the various group datatypes."
   ]
  },
  {
   "cell_type": "code",
   "execution_count": 1,
   "metadata": {},
   "outputs": [
    {
     "name": "stdout",
     "output_type": "stream",
     "text": [
      "Type of my_int: <class 'int'>\n",
      "Type of my_float: <class 'float'>\n",
      "Type of my_boolean: <class 'bool'>\n",
      "Type of my_string: <class 'str'>\n",
      "List object: item 1\n",
      "Tuple object: hello\n",
      "Dictionary value: two\n",
      "Set item: banana\n",
      "Set item: orange\n",
      "Set item: apple\n"
     ]
    }
   ],
   "source": [
    "# Int\n",
    "my_int = 4\n",
    "\n",
    "# Print the datatype\n",
    "print(f\"Type of my_int: {type(my_int)}\")\n",
    "\n",
    "\n",
    "# Float\n",
    "my_float = 3.14\n",
    "\n",
    "# Print the datatype\n",
    "print(f\"Type of my_float: {type(my_float)}\")\n",
    "\n",
    "\n",
    "# Boolean\n",
    "my_boolean = True\n",
    "\n",
    "# Print the datatype\n",
    "print(f\"Type of my_boolean: {type(my_boolean)}\")\n",
    "\n",
    "\n",
    "# String\n",
    "my_string = \"Hello World!\"\n",
    "\n",
    "# Print the datatype\n",
    "print(f\"Type of my_string: {type(my_string)}\")\n",
    "\n",
    "\n",
    "# List created with square brackets\n",
    "my_list = [\"item 1\", \"item 2\", \"item 2\"]\n",
    "\n",
    "# Accessing item 1\n",
    "print(f\"List object: {my_list[0]}\")\n",
    "\n",
    "\n",
    "# Tuple created with parenthesis\n",
    "my_tuple = (\"hi\", \"hello\", \"hey\")\n",
    "\n",
    "# Accessing \"Hello\"\n",
    "print(f\"Tuple object: {my_tuple[1]}\")\n",
    "\n",
    "\n",
    "# Dictionary created with braces and colon's between the key and the value\n",
    "my_dict = {1: \"one\", 2: \"two\", 3: \"three\"}\n",
    "\n",
    "# Accessing value 2\n",
    "print(f\"Dictionary value: {my_dict.get(2)}\")\n",
    "\n",
    "\n",
    "# Set created with braces\n",
    "my_set = {\"banana\", \"apple\", \"orange\"}\n",
    "\n",
    "# Looping through each item in the set\n",
    "for item in my_set:\n",
    "    print(f\"Set item: {item}\")"
   ]
  },
  {
   "attachments": {},
   "cell_type": "markdown",
   "metadata": {},
   "source": [
    "You'll get some problems at the end to practice these, for now we're going to move onto operators.\n",
    "\n",
    "<H2>Operators</H2>\n",
    "\n",
    "You'll be familiar with quite a few of these and have to adjust for some of them. I forget some of them sometimes and get a harsh reminder when my code outputs something crazy and I have to figure out why. Below are the operators.\n",
    "\n",
    "    * Arithmetic operators (+, -, *, /, %, **)\n",
    "    * Comparison operators (==, !=, <, >, <=, >=)\n",
    "    * Logical operators (and, or, not)\n",
    "    * Assignment operators (=, +=, -=, *=, /=, %=, **=)\n",
    "    * Identity operators (is, is not)\n",
    "    * Membership operators (in, not in)\n",
    "\n",
    "<H3>Arithmetic Operators</H3>\n",
    "\n",
    "The arithmentic operators are all pretty self explanatory leading up to the last two. The first four are addition, subtraction, multiplication and division, the last two are modulo and to the power of. Modulo returns the remainder of a divison operation. for example, 11 / 2 = 5.5, if you were to do long division so you have a integer and a remainder, you'd get 5 as the answer and 1 as the remainder. So, knowing that, 11 % 2 = 1. With some calculators you can type ^ to put a number to the power of something, in python you use \\*\\*. For 2^2 or 2 squared, you write 2\\*\\*2 and those both return 4.\n",
    "\n",
    "<H3>Comparison Operators</H3>\n",
    "\n",
    "The first of our operators is ==. This checks to see if the two items are exactly the same. While in math we can use =, we can't in programming since that is used to assign values to variables. So in practice of programming == is used for equivalency. For !=, it is the opposite of ==. It's looking to make sure the specified items aren't the same and will return true. The next are less than, greater than, less than or equal to, greater than or equal to. They are used exactly how they sound, it checks to see which of the items are greater, less than, or equal to the other item in the operation.\n",
    "\n",
    "<H3>Logical Operators</H3>\n",
    "\n",
    "The logical operators are used to combine other operations that return a bool value.\n",
    "\n",
    "<H3>Assignment Operators</H3>\n",
    "\n",
    "You're already familiar with the first one here. = is used to assign a value to a variable. The rest all work in a similar way. If you were to take a += b, that translates to a = a + b. So you're taking your inital variable a, adding b to it, then assigning the new value back to a. The same applies to -= as a -= b equaling a = a - b, *= as a *= b equaling a = a * b, etc. \n",
    "\n",
    "<H3>Identity Operators</H3>\n",
    "\n",
    "The best way, in my opinion to think of these are to compare them to their non english counter parts. \"is,\" is the equivalent to == and, \"is not,\" is the equivalent to !=. Python will sometimes prefer is or is not when you are comparing strings or other non-numeric data types.\n",
    "\n",
    "<H3>Membership Operators</H3>\n",
    "\n",
    "\"in,\" and \"not in,\" are used to check for a value's existence in a group. For example, if you have a list called my_list with 8 values and one of them is, \"billy,\" you could check it's existense in the list with \"billy\" in my_list. This would return true, if billy wasn't in that list, it would return false.\n",
    "\n",
    "Below are some examples of each"
   ]
  },
  {
   "cell_type": "code",
   "execution_count": 1,
   "metadata": {},
   "outputs": [
    {
     "name": "stdout",
     "output_type": "stream",
     "text": [
      "7\n",
      "3\n",
      "10\n",
      "2.5\n",
      "1\n",
      "25\n",
      "Hello  World\n",
      "Hello World\n",
      "False\n",
      "True\n",
      "False\n",
      "True\n",
      "False\n",
      "True\n",
      "False\n",
      "True\n",
      "False\n",
      "15\n",
      "10\n",
      "20\n",
      "10.0\n",
      "1.0\n",
      "True\n",
      "False\n",
      "True\n",
      "True\n",
      "True\n"
     ]
    }
   ],
   "source": [
    "# Arithmetic operators\n",
    "a = 5\n",
    "b = 2\n",
    "print(a + b)\n",
    "print(a - b)\n",
    "print(a * b)\n",
    "print(a / b)\n",
    "print(a % b)\n",
    "print(a ** b)\n",
    "\n",
    "# If you were to do the same with strings\n",
    "a = \"Hello \"\n",
    "b = \"World\"\n",
    "c = a + b\n",
    "print(a + b)\n",
    "print(c)\n",
    "\n",
    "# Comparison operators\n",
    "x = 10\n",
    "y = 5\n",
    "print(x == y)\n",
    "print(x != y)\n",
    "print(x < y)\n",
    "print(x > y)\n",
    "print(x <= y)\n",
    "print(x >= y)\n",
    "\n",
    "# Logical operators\n",
    "p = True\n",
    "q = False\n",
    "print(p and q)\n",
    "print(p or q)\n",
    "print(not p)\n",
    "\n",
    "# Assignment operators\n",
    "x += 5\n",
    "print(x)\n",
    "x -= 5\n",
    "print(x)\n",
    "x *= 2\n",
    "print(x)\n",
    "x /= 2\n",
    "print(x)\n",
    "x %= 3\n",
    "print(x)\n",
    "\n",
    "# Identity operators\n",
    "a = 5\n",
    "b = 5\n",
    "c = [1, 2, 3]\n",
    "d = [1, 2, 3]\n",
    "print(a is b)\n",
    "print(c is d)\n",
    "print(c is not d)\n",
    "\n",
    "# Membership operators\n",
    "my_list = [1, 2, 3, 4, 5]\n",
    "print(1 in my_list)\n",
    "print(6 not in my_list)"
   ]
  },
  {
   "attachments": {},
   "cell_type": "markdown",
   "metadata": {},
   "source": [
    "<H2>Practice Problems</H2>\n",
    "\n",
    "1. Create 4 variables total with one of each type: 1 String, 1 Int, 1 Float, and 1 Boolean."
   ]
  },
  {
   "cell_type": "code",
   "execution_count": null,
   "metadata": {},
   "outputs": [],
   "source": []
  },
  {
   "attachments": {},
   "cell_type": "markdown",
   "metadata": {},
   "source": [
    "2. Using the print command, print each of your variables out. If you want a little challenge, print all 4 into one line with a space inbetween each. There are a couple of ways you could do this, by using what's called an f-string which can be seen in the variables section or by string concatenation (hopefully that's spelled right)."
   ]
  },
  {
   "cell_type": "code",
   "execution_count": null,
   "metadata": {},
   "outputs": [],
   "source": []
  },
  {
   "attachments": {},
   "cell_type": "markdown",
   "metadata": {},
   "source": [
    "3. Create a new variable that is the result of arithmetic between your Int and Float variables from problem one. Print the new variable that has that result."
   ]
  },
  {
   "cell_type": "code",
   "execution_count": null,
   "metadata": {},
   "outputs": [],
   "source": []
  },
  {
   "attachments": {},
   "cell_type": "markdown",
   "metadata": {},
   "source": [
    "4. Create a comparison operation that evaluates to true using your float and int variables."
   ]
  },
  {
   "cell_type": "code",
   "execution_count": null,
   "metadata": {},
   "outputs": [],
   "source": []
  },
  {
   "attachments": {},
   "cell_type": "markdown",
   "metadata": {},
   "source": [
    "5. Declare a dictionary with 3 key value pairs and a list with 4 items. Print one of the items from the dictionary and the first item from the list (remember python's counting doesn't start at 1)."
   ]
  },
  {
   "cell_type": "code",
   "execution_count": null,
   "metadata": {},
   "outputs": [],
   "source": []
  }
 ],
 "metadata": {
  "kernelspec": {
   "display_name": "Python 3 (ipykernel)",
   "language": "python",
   "name": "python3"
  },
  "language_info": {
   "codemirror_mode": {
    "name": "ipython",
    "version": 3
   },
   "file_extension": ".py",
   "mimetype": "text/x-python",
   "name": "python",
   "nbconvert_exporter": "python",
   "pygments_lexer": "ipython3",
   "version": "3.11.1"
  },
  "orig_nbformat": 4
 },
 "nbformat": 4,
 "nbformat_minor": 2
}
