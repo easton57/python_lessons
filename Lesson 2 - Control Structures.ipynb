{
 "cells": [
  {
   "attachments": {},
   "cell_type": "markdown",
   "metadata": {},
   "source": [
    "<H1>Control Structures</H1>\n",
    "\n",
    "Control structures are super fun and you'll use them a lot as you code. Here's what we'll cover in this lesson.\n",
    "\n",
    " * If, elif, and else statements\n",
    " * For loops\n",
    " * While loops\n",
    "\n",
    " <H2>If Statements</H2>\n",
    "\n",
    " We're going to group the first 3 into this one section since they are all related. If statements are a way to add conditions to your code. If the condition isn't met, the code in the statement isn't executed. You can string these along using else if and else statements. If the conditions for the first if statment aren't met, then it proceeds to check for the else if (or in python, elif) statement and going from there, if those conditions aren't met, it'll fall onto the else statment which doesn't accept statements. You can set these up in different ways to accomplish different tasks. Let's look at them below."
   ]
  },
  {
   "cell_type": "code",
   "execution_count": 3,
   "metadata": {},
   "outputs": [
    {
     "name": "stdout",
     "output_type": "stream",
     "text": [
      "Lone Statment Met!\n",
      "First else hit! We hit this everytime everything above it returns false.\n",
      "Hit the else if!\n"
     ]
    }
   ],
   "source": [
    "# Let's declare some variables to use below\n",
    "a = 12\n",
    "b = 35\n",
    "\n",
    "# Our first lone if statment\n",
    "if a < b:\n",
    "    print(\"Lone Statment Met!\")\n",
    "\n",
    "# Next we'll have a if statement with an else associated, we'll make the if statement false\n",
    "if a > b:\n",
    "    print(\"We shouldn't get this as an output...\")\n",
    "else:\n",
    "    print(\"First else hit! We hit this everytime everything above it returns false.\")\n",
    "\n",
    "# If, else if, and else\n",
    "if a > b:\n",
    "    print(\"We shouldn't get this as an output...\")\n",
    "elif b - 23 == a:\n",
    "    print(\"Hit the else if!\")\n",
    "else:\n",
    "    print(\"Not gonna hit but could be here if you wanted something to run if the previous conditions failed.\")"
   ]
  },
  {
   "attachments": {},
   "cell_type": "markdown",
   "metadata": {},
   "source": [
    "Now if you're watching the videos as well, I'll probably have blabbed on about these not being all the ways you can use them. You can have as many elif statements as you want, don't always need an else statement, etc.\n",
    "\n",
    "<H2>For Loops</H2>\n",
    "\n",
    "For loops are fantastic pieces of code that can occasionally bite you in the butt. While they are easy and convinient way's to loop through numbers or items, they can very quickly increase the run time of your code. For now, we're going to treat them like the golden child that they are.\n",
    "\n",
    "For loops take a range of items or numbers and iterate them over the code within that loop. You declare a variable within the for statement so that each of the items or numbers that are being iterated have somewhere to go for use within the loop. You can see a couple examples below."
   ]
  },
  {
   "cell_type": "code",
   "execution_count": 4,
   "metadata": {},
   "outputs": [
    {
     "name": "stdout",
     "output_type": "stream",
     "text": [
      "A banana is a fruit!\n",
      "A strawberry is a fruit!\n",
      "A raspberry is a fruit!\n",
      "A blueberry is a fruit!\n",
      "After 0 loops, our result is: 15\n",
      "After 1 loops, our result is: 45\n",
      "After 2 loops, our result is: 135\n",
      "After 3 loops, our result is: 405\n",
      "After 4 loops, our result is: 1215\n",
      "After 5 loops, our result is: 3645\n",
      "After 6 loops, our result is: 10935\n",
      "After 7 loops, our result is: 32805\n",
      "After 8 loops, our result is: 98415\n",
      "After 9 loops, our result is: 295245\n",
      "After 10 loops, our result is: 885735\n",
      "After 11 loops, our result is: 2657205\n"
     ]
    }
   ],
   "source": [
    "# Create a array of items\n",
    "my_fruits = [\"banana\", \"strawberry\", \"raspberry\", \"blueberry\"]\n",
    "\n",
    "# Loop through using a for loop, i being the variable that'll hold each of the fruits.\n",
    "for i in my_fruits:\n",
    "    print(f\"A {i} is a fruit!\")\n",
    "\n",
    "# Or we can loop through a range of numbers like below\n",
    "result = 5\n",
    "\n",
    "for i in range(12):\n",
    "    result *= 3\n",
    "    print(f\"After {i} loops, our result is: {result}\")"
   ]
  },
  {
   "attachments": {},
   "cell_type": "markdown",
   "metadata": {},
   "source": [
    "Something important to note is that I used i for my variable in both loops. This brings up locality of code. Since the i is contained by or owned by the for loop, it stops existing after the loop finishes, freeing that variable name for use in later code. This also applies to my result variable, if it was declared in the second loop, it would first, reset everytime the loop ran, and wouldn't be accessible after the loop finished. Final thing to note about the second loop is that we start with 0 when we could and end with 1 minus the initial number. There are ways to start at one and end with the number declared and you can see that below."
   ]
  },
  {
   "cell_type": "code",
   "execution_count": 6,
   "metadata": {},
   "outputs": [
    {
     "name": "stdout",
     "output_type": "stream",
     "text": [
      "1\n",
      "2\n",
      "3\n",
      "4\n",
      "5\n",
      "6\n",
      "7\n",
      "8\n",
      "9\n",
      "10\n",
      "11\n",
      "12\n"
     ]
    }
   ],
   "source": [
    "for i in range(1, 12 + 1):\n",
    "    print(i)"
   ]
  },
  {
   "attachments": {},
   "cell_type": "markdown",
   "metadata": {},
   "source": [
    "Since for loops are exclusive on the second number, you'll need to add a one to it. However, you can specify the start and even the value of the steps it takes in the range statement. Refer to: https://www.w3schools.com/python/ref_func_range.asp if you'd like to learn more about them."
   ]
  },
  {
   "attachments": {},
   "cell_type": "markdown",
   "metadata": {},
   "source": [
    "<H2>While Loops</H2>\n",
    "\n",
    "While loops run until a condition is met. It checks prior to running it's contained code then will check again before running the containing code again. In the past I've used these to check for a rare condition. The most recent case being a systems networking port being available. An example or two can be seen below."
   ]
  },
  {
   "cell_type": "code",
   "execution_count": 10,
   "metadata": {},
   "outputs": [
    {
     "name": "stdout",
     "output_type": "stream",
     "text": [
      "38\n",
      "35\n",
      "32\n",
      "29\n",
      "26\n",
      "23\n",
      "20\n",
      "17\n",
      "14\n",
      "11\n",
      "8\n",
      "5\n",
      "2\n",
      "Final result: -1\n"
     ]
    }
   ],
   "source": [
    "# some variables for use\n",
    "while_int = 38\n",
    "\n",
    "while (while_int > 0):\n",
    "    print(while_int)\n",
    "    while_int -= 3\n",
    "\n",
    "print(f\"Final result: {while_int}\")"
   ]
  },
  {
   "attachments": {},
   "cell_type": "markdown",
   "metadata": {},
   "source": [
    "As you can see, the loop ended once while_int was less than 0 or in this case, it's final result was -1. You can use a combination of any boolean resulting logic on any while loop or if statement. \n",
    "\n",
    "<H2>Take Caution</H2>\n",
    "\n",
    "Any loop, for loop or while loop, can become infinite. A computer will contine to run a loop until it runs out of the resources to do so and with modern computers, it could take a while if you just let it go. It's up to you to determine ways to prevent infinite loops whether that's break statements in loops or ensuring that a loops looping conditions will always be finite.\n",
    "\n",
    "The next note of caution is run times. The run times of your code will increase at some non-linear rate once you start embedding loops. This dabbles in discrete math, however, a for loop is an execution time of n. For every embedded for loop, you have to multiply n again. So 2 for loops is n^2, 3 n^3. So you can see the run time or total number of times that you're looping increasing quadratically."
   ]
  },
  {
   "attachments": {},
   "cell_type": "markdown",
   "metadata": {},
   "source": [
    "<H1>Practice Problems</H1>\n",
    "\n",
    "Other variables may be needed for you to accomplish the task, don't be afraid to create new ones.\n",
    "\n",
    "1. Create a series of if statements that includes an if, at least one elif, and an else statement:"
   ]
  },
  {
   "cell_type": "code",
   "execution_count": null,
   "metadata": {},
   "outputs": [],
   "source": []
  },
  {
   "attachments": {},
   "cell_type": "markdown",
   "metadata": {},
   "source": [
    "2. Create a series of if statements that includes an if and elif. Have code after the elif that will always be executed regardless of the if and elif statement outputs."
   ]
  },
  {
   "cell_type": "code",
   "execution_count": null,
   "metadata": {},
   "outputs": [],
   "source": []
  },
  {
   "attachments": {},
   "cell_type": "markdown",
   "metadata": {},
   "source": [
    "3. Create a list and for loop that interacts with the list. The list should include at least 5 items."
   ]
  },
  {
   "cell_type": "code",
   "execution_count": null,
   "metadata": {},
   "outputs": [],
   "source": []
  },
  {
   "attachments": {},
   "cell_type": "markdown",
   "metadata": {},
   "source": [
    "4. Create while loop that ends when a number input is greater than 150."
   ]
  },
  {
   "cell_type": "code",
   "execution_count": null,
   "metadata": {},
   "outputs": [],
   "source": []
  },
  {
   "attachments": {},
   "cell_type": "markdown",
   "metadata": {},
   "source": [
    "5. Create an infinite while loop or infinite for loop. End it after you start it."
   ]
  },
  {
   "cell_type": "code",
   "execution_count": null,
   "metadata": {},
   "outputs": [],
   "source": []
  }
 ],
 "metadata": {
  "kernelspec": {
   "display_name": "venv",
   "language": "python",
   "name": "python3"
  },
  "language_info": {
   "codemirror_mode": {
    "name": "ipython",
    "version": 3
   },
   "file_extension": ".py",
   "mimetype": "text/x-python",
   "name": "python",
   "nbconvert_exporter": "python",
   "pygments_lexer": "ipython3",
   "version": "3.11.1"
  },
  "orig_nbformat": 4
 },
 "nbformat": 4,
 "nbformat_minor": 2
}
