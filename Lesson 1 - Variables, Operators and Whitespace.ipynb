{
 "cells": [
  {
   "attachments": {},
   "cell_type": "markdown",
   "metadata": {},
   "source": [
    "# Variables\n",
    "\n",
    "Variables in python are fairly simple but we'll do an overview so you have an idea about what most other languages do as well. Having at least a general idea will be beneficial when you come accross other languages in projects or even if you are wanting to explore a new language.\n",
    "\n",
    "Now, the stuff that isn't directly applicable to python. Variables generally have one of a few different types. The most common are Integers, Double, Floats, Strings or Booleans. These are the basic building blocks that you can then build into more complex variables such as Arrays, Dictionaries, Lists, or Hashtables. In other languages, we'll use java for the examples, you have to declare the variable type. So if I want to declare a string, my declaration would look like, \"String myString = \"Word\". Likewise with a integer, \"Int myInt = 12\". In terms of Array and Dictionary declaration, it varries a little wider so once you get into other languages if you choose, be sure to do some research into how those operate.\n",
    "\n",
    "For python variables, you don't need to worry about that. It will do all of your variable type assignments on it's own. What you do need to worry about is keeping track of what type of variable you're using so using descriptive variable names comes in useful. Below are some examples."
   ]
  },
  {
   "cell_type": "code",
   "execution_count": 2,
   "metadata": {},
   "outputs": [],
   "source": [
    "# Integer declaration with a obvious name\n",
    "my_int = 5\n",
    "\n",
    "# Integer declaration with a less obvious name\n",
    "i = 0"
   ]
  },
  {
   "attachments": {},
   "cell_type": "markdown",
   "metadata": {},
   "source": [
    "Some IDE's will show you what the variable type is when you hover over the name, however, it'll ultimately be up to you to keep track of what type your variables are.\n",
    "\n",
    "Variables can also be reassigned a type. For example, below I have an Integer and I convert it to a String:"
   ]
  },
  {
   "cell_type": "code",
   "execution_count": 5,
   "metadata": {},
   "outputs": [],
   "source": [
    "# My initial Int\n",
    "my_var = 1\n",
    "\n",
    "# Convert to a string\n",
    "my_var = \"Hello\""
   ]
  },
  {
   "attachments": {},
   "cell_type": "markdown",
   "metadata": {},
   "source": [
    "As you can see, no errors arrose even if you were to rerun that code. There are limits though, you can't perform operations when the types are different, a conversion would need to take place before hand."
   ]
  },
  {
   "cell_type": "code",
   "execution_count": 4,
   "metadata": {},
   "outputs": [
    {
     "ename": "TypeError",
     "evalue": "unsupported operand type(s) for +: 'int' and 'str'",
     "output_type": "error",
     "traceback": [
      "\u001b[0;31m---------------------------------------------------------------------------\u001b[0m",
      "\u001b[0;31mTypeError\u001b[0m                                 Traceback (most recent call last)",
      "Cell \u001b[0;32mIn[4], line 8\u001b[0m\n\u001b[1;32m      5\u001b[0m my_string \u001b[39m=\u001b[39m \u001b[39m\"\u001b[39m\u001b[39mhello\u001b[39m\u001b[39m\"\u001b[39m\n\u001b[1;32m      7\u001b[0m \u001b[39m# A proper working combination of the variables\u001b[39;00m\n\u001b[0;32m----> 8\u001b[0m combined \u001b[39m=\u001b[39m my_int \u001b[39m+\u001b[39;49m my_string\n",
      "\u001b[0;31mTypeError\u001b[0m: unsupported operand type(s) for +: 'int' and 'str'"
     ]
    }
   ],
   "source": [
    "# My int\n",
    "my_int = 1\n",
    "\n",
    "# a string\n",
    "my_string = \"hello\"\n",
    "\n",
    "# A failed combination\n",
    "combined = my_int + my_string"
   ]
  },
  {
   "attachments": {},
   "cell_type": "markdown",
   "metadata": {},
   "source": [
    "What you could do instead, and there are different operatations for each type, is something like below. You will need to remember the conversions you do as well so I usually leave the original variable intact in case I need to use it again later and reassign the new value. We'll be using the same variables as above."
   ]
  },
  {
   "cell_type": "code",
   "execution_count": 7,
   "metadata": {},
   "outputs": [
    {
     "name": "stdout",
     "output_type": "stream",
     "text": [
      "1hello\n"
     ]
    }
   ],
   "source": [
    "# using the same my int and string above\n",
    "combined = str(my_int) + my_string\n",
    "\n",
    "print(combined)"
   ]
  },
  {
   "attachments": {},
   "cell_type": "markdown",
   "metadata": {},
   "source": [
    "This is all we'll go over for variables for now. Let me know if you have any questions or need any clarification. As we keep writing code and going over different things, you'll get more exposed to what to do with variables and how you can name/keep track of them best. For a last little test, declare a integer, string, and boolean, then print all three in a f string."
   ]
  },
  {
   "attachments": {},
   "cell_type": "markdown",
   "metadata": {},
   "source": [
    "# Operators\n",
    "\n",
    "You've already seen a couple of operators getting to this point. Namely = and +. These two operators operate exactly how you'd expect. You have equals which is our most fundamental assignment operator and the addition sign which will combine variables if they are compatible. Other operators include:"
   ]
  },
  {
   "cell_type": "code",
   "execution_count": 1,
   "metadata": {},
   "outputs": [
    {
     "data": {
      "text/plain": [
       "40"
      ]
     },
     "execution_count": 1,
     "metadata": {},
     "output_type": "execute_result"
    }
   ],
   "source": [
    "# Multiplication\n",
    "5 * 8"
   ]
  },
  {
   "cell_type": "code",
   "execution_count": 2,
   "metadata": {},
   "outputs": [
    {
     "data": {
      "text/plain": [
       "7.0"
      ]
     },
     "execution_count": 2,
     "metadata": {},
     "output_type": "execute_result"
    }
   ],
   "source": [
    "# Division\n",
    "49 / 7"
   ]
  },
  {
   "cell_type": "code",
   "execution_count": 3,
   "metadata": {},
   "outputs": [
    {
     "data": {
      "text/plain": [
       "27"
      ]
     },
     "execution_count": 3,
     "metadata": {},
     "output_type": "execute_result"
    }
   ],
   "source": [
    "# Subtraction\n",
    "50 - 23"
   ]
  },
  {
   "attachments": {},
   "cell_type": "markdown",
   "metadata": {},
   "source": [
    "All of which you may be familiar with just from using a calculator or other calculator like software. In addition to the equals sign there are other important assignment operators. The following can be used if you want to perform an operation on your result with a different number. So for example:"
   ]
  },
  {
   "cell_type": "code",
   "execution_count": 6,
   "metadata": {},
   "outputs": [
    {
     "name": "stdout",
     "output_type": "stream",
     "text": [
      "7\n"
     ]
    }
   ],
   "source": [
    "# declare my int\n",
    "my_int = 5\n",
    "\n",
    "# Our new assignment operator\n",
    "my_int += 2\n",
    "\n",
    "print(my_int)"
   ]
  },
  {
   "attachments": {},
   "cell_type": "markdown",
   "metadata": {},
   "source": [
    "The new operator += takes our initial variable which has the value of 5 and adds two to that value and assign's it to my variable. The expanded way to write that equation is my_int = my_int + 2. This applies to all other operators such as multiplication, division, and subtraction."
   ]
  }
 ],
 "metadata": {
  "kernelspec": {
   "display_name": "venv",
   "language": "python",
   "name": "python3"
  },
  "language_info": {
   "codemirror_mode": {
    "name": "ipython",
    "version": 3
   },
   "file_extension": ".py",
   "mimetype": "text/x-python",
   "name": "python",
   "nbconvert_exporter": "python",
   "pygments_lexer": "ipython3",
   "version": "3.11.1"
  },
  "vscode": {
   "interpreter": {
    "hash": "8078192953dd385a224f7426405eaff80273467500436cec18fcf1fb6fbe79d7"
   }
  }
 },
 "nbformat": 4,
 "nbformat_minor": 0
}
