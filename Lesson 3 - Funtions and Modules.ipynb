{
 "cells": [
  {
   "attachments": {},
   "cell_type": "markdown",
   "metadata": {},
   "source": [
    "<H1>Functions and Modules</H1>\n",
    "\n",
    "Here we'll discuss Functions and Modules. Starting with functions.\n",
    "\n",
    "<h2>Functions</H2>\n",
    "\n",
    "Functions are blocks of code that are reusable. Instead of writing the code multiple times in different places, you create a function, place the code there, then call the function whenever you need to access that code. Function declarations usually consist of a declaration, naming, definition of variables that can be passed in, the code that it will execute, then sometimes a return statement if data is going to be returned from the function. You can see an example below."
   ]
  },
  {
   "cell_type": "code",
   "execution_count": 1,
   "metadata": {},
   "outputs": [],
   "source": [
    "# Function declaration and name, parenthesis are necessary regardless of if there are any variables there.\n",
    "def function_name(variable_1, variable_2):\n",
    "    # The functions repeatable code\n",
    "    print(f\"Here is variable 1: {variable_1} and variable 2: {variable_2}\")\n",
    "\n",
    "    # return status\n",
    "    if variable_2 < variable_1:\n",
    "        return True\n",
    "    else: \n",
    "        return False"
   ]
  },
  {
   "attachments": {},
   "cell_type": "markdown",
   "metadata": {},
   "source": [
    "In the example above, we have our function, 2 variables that get passed in, then those variables get printed and comapared. The function then returns a boolean value depending on the results of the comparison. So to see how we call it and assign the returned value, look below."
   ]
  },
  {
   "cell_type": "code",
   "execution_count": 3,
   "metadata": {},
   "outputs": [
    {
     "name": "stdout",
     "output_type": "stream",
     "text": [
      "Here is variable 1: 12 and variable 2: 44\n",
      "Here is variable 1: 13 and variable 2: 57\n",
      "False\n"
     ]
    }
   ],
   "source": [
    "# Here we'll call it without assigning the return value.\n",
    "function_name(12, 44)\n",
    "\n",
    "# Here we'll assign the return value and print it\n",
    "result = function_name(13, 57)\n",
    "print(result)"
   ]
  },
  {
   "attachments": {},
   "cell_type": "markdown",
   "metadata": {},
   "source": [
    "While both are valid, only one makes use of the return value that could be used elsewhere. Return values also do not need to be booleans, they can be whatever data type would be useful for you.\n",
    "\n",
    "Something that can also be done is the declaration of default parameter values within the declaration, below, we have a greeting function that does this."
   ]
  },
  {
   "cell_type": "code",
   "execution_count": 6,
   "metadata": {},
   "outputs": [
    {
     "name": "stdout",
     "output_type": "stream",
     "text": [
      "Hello Jonathan!\n",
      "Hi Jimmy!\n"
     ]
    }
   ],
   "source": [
    "def greeting(name, greeting=\"Hello\"):\n",
    "    print(f\"{greeting} {name}!\")\n",
    "\n",
    "# We can call it with just a name and get the default greeting value\n",
    "greeting(\"Jonathan\")\n",
    "\n",
    "# Or we can declare a different greeting to be used\n",
    "greeting(\"Jimmy\", \"Hi\")"
   ]
  },
  {
   "attachments": {},
   "cell_type": "markdown",
   "metadata": {},
   "source": [
    "<H2>Modules</H2>\n",
    "\n",
    "Unfortunately, we can't write all the code that we would like to write by ourselves. Maybe we can but it would just take a lot longer than necessary. So python has modules, code that we can import into our own projects that someone else wrote and made available to us. While there are countless modules, we are going ot use math. You import modules using the keyword import:"
   ]
  },
  {
   "cell_type": "code",
   "execution_count": null,
   "metadata": {},
   "outputs": [],
   "source": [
    "import module_name"
   ]
  },
  {
   "attachments": {},
   "cell_type": "markdown",
   "metadata": {},
   "source": [
    "Modules will contain functions, variables, and classes. We'll go over classes eventually but for now, the syntax to access any of these funtions or variables is called dot syntax. Like this: module_name.variable_name or if you're accessing a function: module_name.function_name(). Now for our lovely example using the alluded to math library."
   ]
  },
  {
   "cell_type": "code",
   "execution_count": 9,
   "metadata": {},
   "outputs": [
    {
     "name": "stdout",
     "output_type": "stream",
     "text": [
      "4.0\n",
      "3.141592653589793\n",
      "4.0\n",
      "3.141592653589793\n"
     ]
    }
   ],
   "source": [
    "# our import statement\n",
    "import math\n",
    "\n",
    "# Using dot syntax for a method and a variable\n",
    "print(math.sqrt(16))\n",
    "print(math.pi)\n",
    "\n",
    "# If you just need specific modules or variables from a library you can specify them using a from statement\n",
    "from math import pi, sqrt\n",
    "\n",
    "# This omits the need to use dot syntax and use the module name in each use.\n",
    "print(sqrt(16))\n",
    "print(pi)"
   ]
  },
  {
   "attachments": {},
   "cell_type": "markdown",
   "metadata": {},
   "source": [
    "The syntax for each of these things vaires based on the module so reading the documentation for each module will be important as time goes on. Luckily there are often examples of the code in use in the documentation so you can see the code in action.\n",
    "\n",
    "<H2>Practice Exercies</H2>\n",
    "\n",
    "1. Create a function that takes no parameters (hint: Leave the parenthesis empty in the declaration) that prints out a string. Call it to demonstrate it's funcitonality. The contents of the print statement can be whatever you'd like. Refer to the functions above if you get stuck."
   ]
  },
  {
   "cell_type": "code",
   "execution_count": null,
   "metadata": {},
   "outputs": [],
   "source": []
  },
  {
   "attachments": {},
   "cell_type": "markdown",
   "metadata": {},
   "source": [
    "2. Create a function that takes two inputs. Have each input be a string or float. Perform some arithmatic on those variables then return the result of the operation. Print the value out, outside of the declared function. You'll need to assign the return value to a variable when making the call."
   ]
  },
  {
   "cell_type": "code",
   "execution_count": null,
   "metadata": {},
   "outputs": [],
   "source": []
  },
  {
   "attachments": {},
   "cell_type": "markdown",
   "metadata": {},
   "source": [
    "3. Import and generate a random number between 1 and 100 using the random module. You can refer to some documentation here: https://www.w3schools.com/python/module_random.asp"
   ]
  },
  {
   "cell_type": "code",
   "execution_count": null,
   "metadata": {},
   "outputs": [],
   "source": []
  }
 ],
 "metadata": {
  "kernelspec": {
   "display_name": "venv",
   "language": "python",
   "name": "python3"
  },
  "language_info": {
   "codemirror_mode": {
    "name": "ipython",
    "version": 3
   },
   "file_extension": ".py",
   "mimetype": "text/x-python",
   "name": "python",
   "nbconvert_exporter": "python",
   "pygments_lexer": "ipython3",
   "version": "3.11.1"
  },
  "orig_nbformat": 4
 },
 "nbformat": 4,
 "nbformat_minor": 2
}
